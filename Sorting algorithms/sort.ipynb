{
 "cells": [
  {
   "cell_type": "markdown",
   "metadata": {},
   "source": [
    "# 基本排序算法的python实现"
   ]
  },
  {
   "cell_type": "code",
   "execution_count": 1,
   "metadata": {
    "collapsed": true
   },
   "outputs": [],
   "source": [
    "def swap(unsorted, i, j):\n",
    "    temp = unsorted[i]\n",
    "    unsorted[i] = unsorted[j]\n",
    "    unsorted[j] = temp"
   ]
  },
  {
   "cell_type": "markdown",
   "metadata": {},
   "source": [
    "## 1. 选择排序\n",
    "\n",
    "选择排序每次从无序区中选择最小的那个数，放到有序区的最后，直到无序区为空"
   ]
  },
  {
   "cell_type": "code",
   "execution_count": 2,
   "metadata": {
    "collapsed": true
   },
   "outputs": [],
   "source": [
    "def selectionSort(unsorted):\n",
    "    n = len(unsorted)\n",
    "    for i in range(n):        # Do n - 1 searches\n",
    "        minIndex = i          # set the smallest\n",
    "        for j in range(i+1, n):  # start a search\n",
    "            if  unsorted[j] < unsorted[minIndex]:\n",
    "                minIndex = j\n",
    "        if minIndex != i:\n",
    "            swap(unsorted, minIndex, i)"
   ]
  },
  {
   "cell_type": "code",
   "execution_count": 3,
   "metadata": {
    "collapsed": false,
    "scrolled": true
   },
   "outputs": [
    {
     "name": "stdout",
     "output_type": "stream",
     "text": [
      "[1, 2, 3, 4, 5]\n"
     ]
    }
   ],
   "source": [
    "unsorted = [5,3,1,2,4]\n",
    "selectionSort(unsorted)\n",
    "print unsorted"
   ]
  },
  {
   "cell_type": "markdown",
   "metadata": {},
   "source": [
    "## 2. 冒泡排序\n",
    "\n",
    "对所有相邻记录的关键字进行比较，如果是逆序，则将其交换"
   ]
  },
  {
   "cell_type": "code",
   "execution_count": 4,
   "metadata": {
    "collapsed": true
   },
   "outputs": [],
   "source": [
    "def bubbleSort(unsorted):\n",
    "    n = len(unsorted)\n",
    "    swapped = 0\n",
    "    for i in range(n-1,0,-1):    # 共需要n-1次\n",
    "        for j in range(0,i):\n",
    "            if unsorted[j] > unsorted[j+1]:\n",
    "                swap(unsorted,j,j+1)\n",
    "                swapped = 1\n",
    "        if not swapped:\n",
    "            break"
   ]
  },
  {
   "cell_type": "code",
   "execution_count": 5,
   "metadata": {
    "collapsed": false
   },
   "outputs": [
    {
     "name": "stdout",
     "output_type": "stream",
     "text": [
      "[1, 2, 3, 4, 5]\n"
     ]
    }
   ],
   "source": [
    "unsorted = [5,3,1,2,4]\n",
    "bubbleSort(unsorted)\n",
    "print unsorted"
   ]
  },
  {
   "cell_type": "markdown",
   "metadata": {},
   "source": [
    "## 3. 插入排序\n",
    "\n",
    "每次将待排的数据插入到有序区中适当的位置"
   ]
  },
  {
   "cell_type": "code",
   "execution_count": 6,
   "metadata": {
    "collapsed": true
   },
   "outputs": [],
   "source": [
    "def insertSort(unsorted):\n",
    "    n = len(unsorted)\n",
    "    for i in range(1,n): # 按顺序选取待排关键字，共n-1次\n",
    "        item_to_insert = unsorted[i]\n",
    "        j = i - 1\n",
    "        while j >= 0:   # 从有序区最后一个开始比较，比关键字大的往后移\n",
    "            if unsorted[j] > item_to_insert:\n",
    "                unsorted[j+1] = unsorted[j]\n",
    "                j = j-1\n",
    "            else:\n",
    "                break\n",
    "        unsorted[j+1] = item_to_insert  # 将关键字插入有序区"
   ]
  },
  {
   "cell_type": "code",
   "execution_count": 7,
   "metadata": {
    "collapsed": false
   },
   "outputs": [
    {
     "name": "stdout",
     "output_type": "stream",
     "text": [
      "[1, 2, 3, 4, 5]\n"
     ]
    }
   ],
   "source": [
    "unsorted = [5,3,1,2,4]\n",
    "insertSort(unsorted)\n",
    "print unsorted"
   ]
  },
  {
   "cell_type": "markdown",
   "metadata": {},
   "source": [
    "## 4. 快速排序\n",
    "\n",
    "设置一个基准值Pivot，通常可以选取第一个位置的值，设置两个指针，left和right，right从后往前搜索到比基准值小的数，放到指针left的位置，再从left往后搜索，将大于基准值的数放到指针right的位置"
   ]
  },
  {
   "cell_type": "code",
   "execution_count": 8,
   "metadata": {
    "collapsed": false
   },
   "outputs": [],
   "source": [
    "def quickSort(unsorted,left,right):\n",
    "    pivot = unsorted[left]\n",
    "    i = left\n",
    "    j = right\n",
    "    while left < right:\n",
    "        while left < right and unsorted[right] > pivot:\n",
    "            right = right - 1\n",
    "        unsorted[left] = unsorted[right]\n",
    "        \n",
    "        while left < right and unsorted[left]< pivot:\n",
    "            left = left + 1\n",
    "        unsorted[right] = unsorted[left]\n",
    "        \n",
    "    unsorted[right] = pivot\n",
    "    \n",
    "    if i < left - 1:\n",
    "        quickSort(unsorted,i,left-1)\n",
    "    if left + 1 < j:\n",
    "        quickSort(unsorted,left+1,j)"
   ]
  },
  {
   "cell_type": "code",
   "execution_count": 9,
   "metadata": {
    "collapsed": false
   },
   "outputs": [
    {
     "name": "stdout",
     "output_type": "stream",
     "text": [
      "[1, 2, 3, 4, 5]\n"
     ]
    }
   ],
   "source": [
    "unsorted = [3,1,5,2,4]\n",
    "quickSort(unsorted,0,4)\n",
    "print unsorted"
   ]
  },
  {
   "cell_type": "markdown",
   "metadata": {},
   "source": [
    "## 5. 归并排序\n"
   ]
  },
  {
   "cell_type": "code",
   "execution_count": 13,
   "metadata": {
    "collapsed": true
   },
   "outputs": [],
   "source": [
    "def merge(a, b):\n",
    "    c = []\n",
    "    h = j = 0\n",
    "    while j < len(a) and h < len(b):\n",
    "        if a[j] < b[h]:\n",
    "            c.append(a[j])\n",
    "            j += 1\n",
    "        else:\n",
    "            c.append(b[h])\n",
    "            h += 1\n",
    "\n",
    "    if j == len(a):\n",
    "        for i in b[h:]:\n",
    "            c.append(i)\n",
    "    else:\n",
    "        for i in a[j:]:\n",
    "            c.append(i)\n",
    "\n",
    "    return c\n",
    "\n",
    "\n",
    "def merge_sort(lists):\n",
    "    if len(lists) <= 1:\n",
    "        return lists\n",
    "    middle = len(lists)/2\n",
    "    left = merge_sort(lists[:middle])\n",
    "    right = merge_sort(lists[middle:])\n",
    "    return merge(left, right)"
   ]
  },
  {
   "cell_type": "code",
   "execution_count": 15,
   "metadata": {
    "collapsed": false
   },
   "outputs": [
    {
     "name": "stdout",
     "output_type": "stream",
     "text": [
      "[1, 2, 3, 4, 5]\n"
     ]
    }
   ],
   "source": [
    "unsorted = [3,1,5,2,4]\n",
    "sort = merge_sort(unsorted)\n",
    "print sort"
   ]
  },
  {
   "cell_type": "markdown",
   "metadata": {},
   "source": [
    "## 6. 堆排序"
   ]
  },
  {
   "cell_type": "code",
   "execution_count": null,
   "metadata": {
    "collapsed": true
   },
   "outputs": [],
   "source": []
  },
  {
   "cell_type": "markdown",
   "metadata": {},
   "source": [
    "## 7. 希尔排序"
   ]
  },
  {
   "cell_type": "code",
   "execution_count": null,
   "metadata": {
    "collapsed": true
   },
   "outputs": [],
   "source": []
  },
  {
   "cell_type": "markdown",
   "metadata": {},
   "source": [
    "## 8. 基数排序"
   ]
  }
 ],
 "metadata": {
  "anaconda-cloud": {},
  "kernelspec": {
   "display_name": "Python [conda root]",
   "language": "python",
   "name": "conda-root-py"
  },
  "language_info": {
   "codemirror_mode": {
    "name": "ipython",
    "version": 2
   },
   "file_extension": ".py",
   "mimetype": "text/x-python",
   "name": "python",
   "nbconvert_exporter": "python",
   "pygments_lexer": "ipython2",
   "version": "2.7.12"
  }
 },
 "nbformat": 4,
 "nbformat_minor": 1
}
