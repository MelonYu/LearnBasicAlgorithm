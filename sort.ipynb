{
 "cells": [
  {
   "cell_type": "markdown",
   "metadata": {},
   "source": [
    "# 基本排序算法的python实现"
   ]
  },
  {
   "cell_type": "code",
   "execution_count": 1,
   "metadata": {
    "collapsed": true
   },
   "outputs": [],
   "source": [
    "def swap(unsorted, i, j):\n",
    "    temp = unsorted[i]\n",
    "    unsorted[i] = unsorted[j]\n",
    "    unsorted[j] = temp"
   ]
  },
  {
   "cell_type": "markdown",
   "metadata": {},
   "source": [
    "## 1. 选择排序\n",
    "\n",
    "选择排序是将待排序列分为有序区和无序区，每次从无序区中选择最小的那个数，放到有序区的最后，直到无序区为空"
   ]
  },
  {
   "cell_type": "code",
   "execution_count": 24,
   "metadata": {
    "collapsed": true
   },
   "outputs": [],
   "source": [
    "def selectionSort(unsorted):\n",
    "    n = len(unsorted)\n",
    "    for i in range(n):        # Do n - 1 searches\n",
    "        minIndex = i          # set the smallest\n",
    "        for j in range(i+1, n):  # start a search\n",
    "            if  unsorted[j] < unsorted[minIndex]:\n",
    "                minIndex = j\n",
    "        if minIndex != i:\n",
    "            swap(unsorted, minIndex, i)"
   ]
  },
  {
   "cell_type": "code",
   "execution_count": 25,
   "metadata": {
    "collapsed": false,
    "scrolled": true
   },
   "outputs": [
    {
     "name": "stdout",
     "output_type": "stream",
     "text": [
      "[1, 2, 3, 4, 5]\n"
     ]
    }
   ],
   "source": [
    "unsorted = [5,3,1,2,4]\n",
    "selectionSort(unsorted)\n",
    "print unsorted"
   ]
  },
  {
   "cell_type": "markdown",
   "metadata": {},
   "source": [
    "## 2. 冒泡排序\n",
    "\n",
    "对所有相邻记录的关键字进行比较，如果是逆序，则将其交换"
   ]
  },
  {
   "cell_type": "code",
   "execution_count": 29,
   "metadata": {
    "collapsed": true
   },
   "outputs": [],
   "source": [
    "def bubbleSort(unsorted):\n",
    "    n = len(unsorted)\n",
    "    for i in range(n-1,0,-1):\n",
    "        for j in range(0,i):\n",
    "            if unsorted[j] > unsorted[j+1]:\n",
    "                swap(unsorted,j,j+1)"
   ]
  },
  {
   "cell_type": "code",
   "execution_count": 30,
   "metadata": {
    "collapsed": false
   },
   "outputs": [
    {
     "name": "stdout",
     "output_type": "stream",
     "text": [
      "[1, 2, 3, 4, 5]\n"
     ]
    }
   ],
   "source": [
    "unsorted = [5,3,1,2,4]\n",
    "bubbleSort(unsorted)\n",
    "print unsorted"
   ]
  },
  {
   "cell_type": "markdown",
   "metadata": {},
   "source": [
    "## 3. 插入排序"
   ]
  },
  {
   "cell_type": "code",
   "execution_count": null,
   "metadata": {
    "collapsed": true
   },
   "outputs": [],
   "source": []
  },
  {
   "cell_type": "markdown",
   "metadata": {},
   "source": [
    "## 4. 快速排序"
   ]
  },
  {
   "cell_type": "code",
   "execution_count": null,
   "metadata": {
    "collapsed": true
   },
   "outputs": [],
   "source": []
  },
  {
   "cell_type": "markdown",
   "metadata": {},
   "source": [
    "## 5. 归并排序"
   ]
  }
 ],
 "metadata": {
  "anaconda-cloud": {},
  "kernelspec": {
   "display_name": "Python [conda root]",
   "language": "python",
   "name": "conda-root-py"
  },
  "language_info": {
   "codemirror_mode": {
    "name": "ipython",
    "version": 2
   },
   "file_extension": ".py",
   "mimetype": "text/x-python",
   "name": "python",
   "nbconvert_exporter": "python",
   "pygments_lexer": "ipython2",
   "version": "2.7.12"
  }
 },
 "nbformat": 4,
 "nbformat_minor": 1
}
